{
  "nbformat": 4,
  "nbformat_minor": 0,
  "metadata": {
    "colab": {
      "name": "Python_Basic_Assignment_8.ipynb",
      "provenance": []
    },
    "kernelspec": {
      "name": "python3",
      "display_name": "Python 3"
    },
    "language_info": {
      "name": "python"
    }
  },
  "cells": [
    {
      "cell_type": "markdown",
      "source": [
        "Q1). Is the Python Standard Library included with PyInputPlus?\n",
        "\n",
        "Ans) Yes. Python Standard Library included with PyInputPlus."
      ],
      "metadata": {
        "id": "iPOI-5jq0bBJ"
      }
    },
    {
      "cell_type": "markdown",
      "source": [
        "Q2). Why is PyInputPlus commonly imported with import pyinputplus as pypi?\n",
        "\n",
        "Ans) PyInputPlus commonly imported with import pyinputplus as pypi so that you can enter a shorter name when calling the module's functions ."
      ],
      "metadata": {
        "id": "1Ub1Ry9L05If"
      }
    },
    {
      "cell_type": "markdown",
      "source": [
        "Q3). How do you distinguish between inputInt() and inputFloat()?\n",
        "\n",
        "Ans) In int input  we take integer means number without point eg(1523)  and in inputFloat we use point in the number eg(153.24) ."
      ],
      "metadata": {
        "id": "3zqG4bDN05E_"
      }
    },
    {
      "cell_type": "markdown",
      "source": [
        "Q4). Using PyInputPlus, how do you ensure that the user enters a whole number between 0 and 99?\n",
        "\n",
        "Ans)"
      ],
      "metadata": {
        "id": "Hx48ULyM05CF"
      }
    },
    {
      "cell_type": "code",
      "source": [
        "!pip install PyInputPlus"
      ],
      "metadata": {
        "colab": {
          "base_uri": "https://localhost:8080/"
        },
        "id": "KGHVI7tx3L5C",
        "outputId": "312cabcc-bd28-45d5-82f6-4e4e4cca30b0"
      },
      "execution_count": 3,
      "outputs": [
        {
          "output_type": "stream",
          "name": "stdout",
          "text": [
            "Collecting PyInputPlus\n",
            "  Downloading PyInputPlus-0.2.12.tar.gz (20 kB)\n",
            "  Installing build dependencies ... \u001b[?25l\u001b[?25hdone\n",
            "  Getting requirements to build wheel ... \u001b[?25l\u001b[?25hdone\n",
            "    Preparing wheel metadata ... \u001b[?25l\u001b[?25hdone\n",
            "Collecting stdiomask>=0.0.3\n",
            "  Downloading stdiomask-0.0.6.tar.gz (3.6 kB)\n",
            "  Installing build dependencies ... \u001b[?25l\u001b[?25hdone\n",
            "  Getting requirements to build wheel ... \u001b[?25l\u001b[?25hdone\n",
            "    Preparing wheel metadata ... \u001b[?25l\u001b[?25hdone\n",
            "Collecting pysimplevalidate>=0.2.7\n",
            "  Downloading PySimpleValidate-0.2.12.tar.gz (22 kB)\n",
            "  Installing build dependencies ... \u001b[?25l\u001b[?25hdone\n",
            "  Getting requirements to build wheel ... \u001b[?25l\u001b[?25hdone\n",
            "    Preparing wheel metadata ... \u001b[?25l\u001b[?25hdone\n",
            "Building wheels for collected packages: PyInputPlus, pysimplevalidate, stdiomask\n",
            "  Building wheel for PyInputPlus (PEP 517) ... \u001b[?25l\u001b[?25hdone\n",
            "  Created wheel for PyInputPlus: filename=PyInputPlus-0.2.12-py3-none-any.whl size=11315 sha256=07239569d94b89b64adf9cfef38278896c20b9eb87d92ccedf4617603cca9464\n",
            "  Stored in directory: /root/.cache/pip/wheels/e7/33/73/719f8f1bd984d39face880fd22f6c5ef1b85f726e84c687094\n",
            "  Building wheel for pysimplevalidate (PEP 517) ... \u001b[?25l\u001b[?25hdone\n",
            "  Created wheel for pysimplevalidate: filename=PySimpleValidate-0.2.12-py3-none-any.whl size=16193 sha256=628852ae5521d7179f95bde5aaee9856d21ef5ec5d0166983f841a9801af9a19\n",
            "  Stored in directory: /root/.cache/pip/wheels/5a/8b/6c/2925d22b93860bdc9b8ce02c3d2cf79336606f7469cef66065\n",
            "  Building wheel for stdiomask (PEP 517) ... \u001b[?25l\u001b[?25hdone\n",
            "  Created wheel for stdiomask: filename=stdiomask-0.0.6-py3-none-any.whl size=3321 sha256=3cc4a2fa92147e58f44b32dcfa0be31572a36d30e11aa827c1242c0b89b6f91f\n",
            "  Stored in directory: /root/.cache/pip/wheels/cf/13/89/64d0d3b167759523f4c1e68f883bbc30e7bfa27050edeb418e\n",
            "Successfully built PyInputPlus pysimplevalidate stdiomask\n",
            "Installing collected packages: stdiomask, pysimplevalidate, PyInputPlus\n",
            "Successfully installed PyInputPlus-0.2.12 pysimplevalidate-0.2.12 stdiomask-0.0.6\n"
          ]
        }
      ]
    },
    {
      "cell_type": "code",
      "source": [
        "import pyinputplus as pyip"
      ],
      "metadata": {
        "id": "42PP43tm4CnV"
      },
      "execution_count": 6,
      "outputs": []
    },
    {
      "cell_type": "code",
      "source": [
        "for i in range(0, 99):\n",
        "  print(i)"
      ],
      "metadata": {
        "colab": {
          "base_uri": "https://localhost:8080/"
        },
        "id": "T26_ZGEJ57KR",
        "outputId": "bbfcf02e-58e7-4315-e932-ef7aa571f2c1"
      },
      "execution_count": 13,
      "outputs": [
        {
          "output_type": "stream",
          "name": "stdout",
          "text": [
            "0\n",
            "1\n",
            "2\n",
            "3\n",
            "4\n",
            "5\n",
            "6\n",
            "7\n",
            "8\n",
            "9\n",
            "10\n",
            "11\n",
            "12\n",
            "13\n",
            "14\n",
            "15\n",
            "16\n",
            "17\n",
            "18\n",
            "19\n",
            "20\n",
            "21\n",
            "22\n",
            "23\n",
            "24\n",
            "25\n",
            "26\n",
            "27\n",
            "28\n",
            "29\n",
            "30\n",
            "31\n",
            "32\n",
            "33\n",
            "34\n",
            "35\n",
            "36\n",
            "37\n",
            "38\n",
            "39\n",
            "40\n",
            "41\n",
            "42\n",
            "43\n",
            "44\n",
            "45\n",
            "46\n",
            "47\n",
            "48\n",
            "49\n",
            "50\n",
            "51\n",
            "52\n",
            "53\n",
            "54\n",
            "55\n",
            "56\n",
            "57\n",
            "58\n",
            "59\n",
            "60\n",
            "61\n",
            "62\n",
            "63\n",
            "64\n",
            "65\n",
            "66\n",
            "67\n",
            "68\n",
            "69\n",
            "70\n",
            "71\n",
            "72\n",
            "73\n",
            "74\n",
            "75\n",
            "76\n",
            "77\n",
            "78\n",
            "79\n",
            "80\n",
            "81\n",
            "82\n",
            "83\n",
            "84\n",
            "85\n",
            "86\n",
            "87\n",
            "88\n",
            "89\n",
            "90\n",
            "91\n",
            "92\n",
            "93\n",
            "94\n",
            "95\n",
            "96\n",
            "97\n",
            "98\n"
          ]
        }
      ]
    },
    {
      "cell_type": "markdown",
      "source": [
        "Q5). What is transferred to the keyword arguments allowRegexes and blockRegexes?\n",
        "\n",
        "Ans) allowRegexes will override blockRegexes"
      ],
      "metadata": {
        "id": "lgKvM8G204_S"
      }
    },
    {
      "cell_type": "markdown",
      "source": [
        "Q6). If a blank input is entered three times, what does inputStr(limit=3) do?\n",
        "\n",
        "Ans) If the user answers incorrectly more than 3 times, it raises a RetryLimitException exception."
      ],
      "metadata": {
        "id": "sJ8tQdTc048n"
      }
    },
    {
      "cell_type": "markdown",
      "source": [
        "Q7) If blank input is entered three times, what does inputStr(limit=3, default='hello') do?\n",
        "\n",
        "Ans)  If the user answers incorrectly more than 3 times, it will print hello"
      ],
      "metadata": {
        "id": "kiPgUvPz0450"
      }
    }
  ]
}